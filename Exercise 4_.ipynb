{
  "nbformat": 4,
  "nbformat_minor": 0,
  "metadata": {
    "colab": {
      "provenance": [],
      "authorship_tag": "ABX9TyPZm3sUJIzA67GecwJOw5yz",
      "include_colab_link": true
    },
    "kernelspec": {
      "name": "python3",
      "display_name": "Python 3"
    },
    "language_info": {
      "name": "python"
    }
  },
  "cells": [
    {
      "cell_type": "markdown",
      "metadata": {
        "id": "view-in-github",
        "colab_type": "text"
      },
      "source": [
        "<a href=\"https://colab.research.google.com/github/CarlCarag/DSA-CpE-010-CpE21S4-/blob/main/Class_Shape_Area_.ipynb\" target=\"_parent\"><img src=\"https://colab.research.google.com/assets/colab-badge.svg\" alt=\"Open In Colab\"/></a>"
      ]
    },
    {
      "cell_type": "code",
      "execution_count": 1,
      "metadata": {
        "colab": {
          "base_uri": "https://localhost:8080/"
        },
        "id": "tFbU6HFPxVVO",
        "outputId": "cc473df4-445c-459b-81f2-ed28654f2722"
      },
      "outputs": [
        {
          "output_type": "stream",
          "name": "stdout",
          "text": [
            "Total Area of Rectangle:  20 sqm\n",
            "Total Area of Square:  25 sqm\n",
            "Total Area of Triangle:  5.0 sqm\n"
          ]
        }
      ],
      "source": [
        "#Usage of class to calculate areas of the following shapes.\n",
        "class Shapes():\n",
        "\n",
        "    def __init__(self, length, width, side, base, height):\n",
        "        self.length = length\n",
        "        self.width = width\n",
        "        self.side = side\n",
        "        self.base = base\n",
        "        self.height = height\n",
        "\n",
        "\n",
        "class Rectangle(Shapes):\n",
        "         def AreaOf_Rec(self):\n",
        "            FormulaRec = self.length * self.width\n",
        "            return FormulaRec\n",
        "\n",
        "class Square(Shapes):\n",
        "            def AreaOf_Squ(self):\n",
        "                FormulaSqu = self.side ** 2\n",
        "                return FormulaSqu\n",
        "\n",
        "class Triangle(Shapes):\n",
        "            def AreaOf_Tria(self):\n",
        "                FormulaTria = (self.base * self.height)/2\n",
        "                return FormulaTria\n",
        "\n",
        "#Inputs the details of the code to be processed.\n",
        "rect = Rectangle(5,4,0,0,0)\n",
        "squa=Square(0,0,5,0,0)\n",
        "tria= Triangle(0,0,0,5,2)\n",
        "\n",
        "#Output of the processed datas from the input of the code.\n",
        "print(\"Total Area of Rectangle: \", rect.AreaOf_Rec(),\"sqm\")\n",
        "print(\"Total Area of Square: \",squa.AreaOf_Squ(),\"sqm\")\n",
        "print(\"Total Area of Triangle: \",tria.AreaOf_Tria(),\"sqm\")"
      ]
    }
  ]
}
