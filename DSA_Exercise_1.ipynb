{
  "nbformat": 4,
  "nbformat_minor": 0,
  "metadata": {
    "colab": {
      "provenance": [],
      "authorship_tag": "ABX9TyPnS/s8e9FZ5BwpabsPlkPd",
      "include_colab_link": true
    },
    "kernelspec": {
      "name": "python3",
      "display_name": "Python 3"
    },
    "language_info": {
      "name": "python"
    }
  },
  "cells": [
    {
      "cell_type": "markdown",
      "metadata": {
        "id": "view-in-github",
        "colab_type": "text"
      },
      "source": [
        "<a href=\"https://colab.research.google.com/github/CarlCarag/DSA-CpE-010-CpE21S4-/blob/main/DSA_Exercise_1.ipynb\" target=\"_parent\"><img src=\"https://colab.research.google.com/assets/colab-badge.svg\" alt=\"Open In Colab\"/></a>"
      ]
    },
    {
      "cell_type": "markdown",
      "source": [
        "**Class Rectangle Area Calc**"
      ],
      "metadata": {
        "id": "3VewsO4Tw5lA"
      }
    },
    {
      "cell_type": "code",
      "execution_count": null,
      "metadata": {
        "id": "jsC0ZKBIcyML"
      },
      "outputs": [],
      "source": [
        "class rectangle:\n",
        "\n",
        "    def __init__(self, width, length):\n",
        "        self.width = width\n",
        "        self.length = length\n",
        "\n",
        "\n",
        "    def RecArea(self):\n",
        "        area = self.length * self.width\n",
        "        return area\n",
        "\n",
        "\n",
        "lent = int(input(\"Enter the length of the object: \"))\n",
        "wid = int(input(\"Enter the width of the object: \"))\n",
        "\n",
        "compn = rectangle(lent, wid)\n",
        "print(compn.RecArea() )"
      ]
    },
    {
      "cell_type": "markdown",
      "source": [],
      "metadata": {
        "id": "PDWJzW25wwcB"
      }
    }
  ]
}